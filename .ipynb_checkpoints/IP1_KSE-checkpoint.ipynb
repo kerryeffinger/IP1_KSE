{
 "cells": [
  {
   "cell_type": "markdown",
   "metadata": {},
   "source": [
    "# Individual Project 1\n",
    "**Author:** Kerry Effinger  \n",
    "**Version:** 1.0  \n",
    "**Semester:** Spring 2021  \n",
    "**Summary:** This notebook opens and reads a csv file with information about parking lots. Using the data from the csv file, the following code places it in a table with the PrettyTable library, counts the number of lots of a certain type, and finally, finds summary statisitcs from the data and prints that in to a table with PrettyTable."
   ]
  },
  {
   "cell_type": "markdown",
   "metadata": {},
   "source": [
    "There are several libraries that are needed throughout the following project, so the next cell imports them."
   ]
  },
  {
   "cell_type": "code",
   "execution_count": 1,
   "metadata": {},
   "outputs": [],
   "source": [
    "import csv\n",
    "import numpy as np\n",
    "from prettytable import PrettyTable"
   ]
  },
  {
   "cell_type": "markdown",
   "metadata": {},
   "source": [
    "1. The following code defines a function that accepts the name of a file and returns it as a list"
   ]
  },
  {
   "cell_type": "code",
   "execution_count": 2,
   "metadata": {},
   "outputs": [],
   "source": [
    "def get_data(filename):\n",
    "    with open (filename, mode = 'r', newline='') as d:\n",
    "        reader = csv.reader(d)\n",
    "        datalist= []\n",
    "        for record in reader:\n",
    "            datalist.append(record)\n",
    "    return datalist"
   ]
  },
  {
   "cell_type": "code",
   "execution_count": 6,
   "metadata": {},
   "outputs": [],
   "source": [
    "parkinglist = get_data('parking.csv')"
   ]
  },
  {
   "cell_type": "markdown",
   "metadata": {},
   "source": [
    "2. After reading the csv file and turning it into a list, the next piece takes the data from the list and prints it to a PrettyTable with the first row of data being the headers"
   ]
  },
  {
   "cell_type": "code",
   "execution_count": 18,
   "metadata": {},
   "outputs": [],
   "source": [
    "def show_table(listname):\n",
    "    header = listname[0]\n",
    "    p = PrettyTable(header)\n",
    "    for row in parkinglist:\n",
    "        p.add_row(row)\n",
    "    p.del_row(0)    \n",
    "    print(p)"
   ]
  },
  {
   "cell_type": "code",
   "execution_count": 32,
   "metadata": {},
   "outputs": [],
   "source": [
    "#show_table(parkinglist)"
   ]
  },
  {
   "cell_type": "markdown",
   "metadata": {},
   "source": [
    "3. The following code defines a function that accepts a list and a lot type (either 'GARAGE' or 'SURFACE LOT'). Then, the function counts the number of items in the list with the specified lot, and returns a tuple with the lot type and number of lots."
   ]
  },
  {
   "cell_type": "code",
   "execution_count": 52,
   "metadata": {},
   "outputs": [],
   "source": [
    "def count_lot_type(listname, lottype):\n",
    "    onelist = [x for l in listname for x in l]\n",
    "    return (lottype, onelist.count(lottype))"
   ]
  },
  {
   "cell_type": "code",
   "execution_count": 55,
   "metadata": {},
   "outputs": [
    {
     "data": {
      "text/plain": [
       "('SURFACE LOT', 57)"
      ]
     },
     "execution_count": 55,
     "metadata": {},
     "output_type": "execute_result"
    }
   ],
   "source": [
    "count_lot_type(parkinglist, 'SURFACE LOT')"
   ]
  },
  {
   "cell_type": "markdown",
   "metadata": {},
   "source": [
    "4. The last bit of code is a function to find summary statistics of the data about parking lots. This code will only work for columns 2, 3, 4 or 5. The column is converted to a NumPy array of floating point numbers. Then, using the NumPy functions mean, min and max, the maximum, minimum and average of the column are found. Finally, these statistics are placed in a table using PrettyTable. "
   ]
  },
  {
   "cell_type": "code",
   "execution_count": 109,
   "metadata": {},
   "outputs": [],
   "source": [
    "def get_column_stats(listname, column):\n",
    "    start = column\n",
    "    end = column + 1\n",
    "    nplist = np.array(listname)\n",
    "    npcolumn=nplist[1:,start:end]\n",
    "    npcolumn = npcolumn.astype(np.float)\n",
    "    avg = round(np.mean(npcolumn),2)\n",
    "    mini = np.min(npcolumn)\n",
    "    maxi = np.max(npcolumn)\n",
    "    header = ('','Max','Min','Avg')\n",
    "    p = PrettyTable(header)\n",
    "    p.add_row(['TOTAL_SPCS',maxi,mini,avg])\n",
    "    \n",
    "    if column == 0 or column == 1:\n",
    "        print('Incorrect Column')\n",
    "    else:\n",
    "        print(p)"
   ]
  },
  {
   "cell_type": "code",
   "execution_count": 113,
   "metadata": {},
   "outputs": [
    {
     "name": "stdout",
     "output_type": "stream",
     "text": [
      "+------------+--------+------+--------+\n",
      "|            |  Max   | Min  |  Avg   |\n",
      "+------------+--------+------+--------+\n",
      "| TOTAL_SPCS | 1925.0 | 15.0 | 304.81 |\n",
      "+------------+--------+------+--------+\n"
     ]
    }
   ],
   "source": [
    "get_column_stats(parkinglist,3)"
   ]
  },
  {
   "cell_type": "code",
   "execution_count": null,
   "metadata": {},
   "outputs": [],
   "source": []
  }
 ],
 "metadata": {
  "kernelspec": {
   "display_name": "Python 3",
   "language": "python",
   "name": "python3"
  },
  "language_info": {
   "codemirror_mode": {
    "name": "ipython",
    "version": 3
   },
   "file_extension": ".py",
   "mimetype": "text/x-python",
   "name": "python",
   "nbconvert_exporter": "python",
   "pygments_lexer": "ipython3",
   "version": "3.8.3"
  }
 },
 "nbformat": 4,
 "nbformat_minor": 4
}
